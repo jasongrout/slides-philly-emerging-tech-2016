{
 "cells": [
  {
   "cell_type": "markdown",
   "metadata": {},
   "source": [
    "# Interactive Widgets\n"
   ]
  },
  {
   "cell_type": "code",
   "execution_count": 10,
   "metadata": {
    "collapsed": false
   },
   "outputs": [],
   "source": [
    "from __future__ import print_function # for python 2\n",
    "from collections import OrderedDict\n",
    "from ipywidgets import interact, IntSlider\n",
    "from traitlets import link\n",
    "from IPython.display import clear_output, display\n",
    "\n",
    "%matplotlib inline\n",
    "import matplotlib\n",
    "matplotlib.style.use('ggplot')\n",
    "import matplotlib.pyplot as plt\n",
    "import numpy as np"
   ]
  },
  {
   "cell_type": "code",
   "execution_count": 11,
   "metadata": {
    "collapsed": false
   },
   "outputs": [
    {
     "name": "stdout",
     "output_type": "stream",
     "text": [
      "9\n"
     ]
    }
   ],
   "source": [
    "print(3*3)"
   ]
  },
  {
   "cell_type": "code",
   "execution_count": 12,
   "metadata": {
    "collapsed": true
   },
   "outputs": [],
   "source": [
    "def f(x):\n",
    "    print(x*x)"
   ]
  },
  {
   "cell_type": "code",
   "execution_count": 13,
   "metadata": {
    "collapsed": false
   },
   "outputs": [
    {
     "name": "stdout",
     "output_type": "stream",
     "text": [
      "9\n"
     ]
    }
   ],
   "source": [
    "f(3)"
   ]
  },
  {
   "cell_type": "markdown",
   "metadata": {},
   "source": [
    "<img src=\"images/Flow.svg\"></img>"
   ]
  },
  {
   "cell_type": "code",
   "execution_count": 14,
   "metadata": {
    "collapsed": false
   },
   "outputs": [
    {
     "name": "stdout",
     "output_type": "stream",
     "text": [
      "100\n"
     ]
    }
   ],
   "source": [
    "interact(f, x=10);"
   ]
  },
  {
   "cell_type": "code",
   "execution_count": 15,
   "metadata": {
    "collapsed": false
   },
   "outputs": [
    {
     "name": "stdout",
     "output_type": "stream",
     "text": [
      "2500\n"
     ]
    }
   ],
   "source": [
    "interact(f, x=(0,100));"
   ]
  },
  {
   "cell_type": "code",
   "execution_count": 16,
   "metadata": {
    "collapsed": false
   },
   "outputs": [
    {
     "name": "stdout",
     "output_type": "stream",
     "text": [
      "100\n"
     ]
    }
   ],
   "source": [
    "interact(f, x=IntSlider(min=0, max=500, value=10, step=2));"
   ]
  },
  {
   "cell_type": "code",
   "execution_count": 17,
   "metadata": {
    "collapsed": false
   },
   "outputs": [
    {
     "data": {
      "image/png": "[encoded data removed]",
      "text/plain": [
       "<matplotlib.figure.Figure at 0x10d9eddd8>"
      ]
     },
     "metadata": {},
     "output_type": "display_data"
    }
   ],
   "source": [
    "@interact(title=\"Revenue\", power=(0,10), graph=True, color=('red', 'green', 'blue'))\n",
    "def g(title, power,graph,color):\n",
    "    if graph:\n",
    "        plt.figure(figsize=(10,6))\n",
    "        xdata = np.linspace(0,10,100)\n",
    "        ydata = np.power(xdata, power)\n",
    "        plt.plot(xdata,ydata, c=color, linewidth=3)\n",
    "        plt.title(title)\n",
    "        plt.ylim(0,1e6)\n",
    "    else:\n",
    "        clear_output()\n"
   ]
  },
  {
   "cell_type": "markdown",
   "metadata": {},
   "source": [
    "# Linking widgets"
   ]
  },
  {
   "cell_type": "code",
   "execution_count": null,
   "metadata": {
    "collapsed": false
   },
   "outputs": [],
   "source": [
    "maxn = IntSlider(value=10, description=\"max n\")\n",
    "n = IntSlider(value=10, description=\"n\")\n",
    "link((maxn, 'value'), (n, 'max'))\n",
    "\n",
    "def print_value(change):\n",
    "    clear_output()\n",
    "    value = change['new']\n",
    "    print(value*value)\n",
    "n.observe(print_value, names='value')\n",
    "\n",
    "display(maxn,n)\n",
    "print(n.value*n.value)"
   ]
  },
  {
   "cell_type": "code",
   "execution_count": null,
   "metadata": {
    "collapsed": true
   },
   "outputs": [],
   "source": []
  }
 ],
 "metadata": {
  "kernelspec": {
   "display_name": "Python 3",
   "language": "python",
   "name": "python3"
  },
  "language_info": {
   "codemirror_mode": {
    "name": "ipython",
    "version": 3
   },
   "file_extension": ".py",
   "mimetype": "text/x-python",
   "name": "python",
   "nbconvert_exporter": "python",
   "pygments_lexer": "ipython3",
   "version": "3.5.1"
  },
  "widgets": {
   "state": {
    "03a69727a9a541789033a59866218262": {
     "views": [
      {
       "cell": {
        "cell_type": "code",
        "execution_count": 14,
        "metadata": {
         "collapsed": false,
         "trusted": true
        },
        "outputs": [
         {
          "name": "stdout",
          "output_type": "stream",
          "text": "100\n"
         }
        ],
        "source": "interact(f, x=10);"
       },
       "cell_index": 6,
       "root": true
      }
     ]
    },
    "03b4950049d146949f67fea1d742f9e6": {
     "views": []
    },
    "090a817063e74862b70287ca7de378e6": {
     "views": []
    },
    "108b122441f249ecbd71662ba0a55337": {
     "views": []
    },
    "15291f8ff2e94d3192164348814a8e12": {
     "views": []
    },
    "1dbcb69a6417469ab237af135dee3df4": {
     "views": []
    },
    "1ebd42b3b7a94bf1a2ca3df6affa88c9": {
     "views": []
    },
    "2c031871572f4fbcb18419d1ded4ca7f": {
     "views": []
    },
    "2d70c8904465413698062eaddb86950e": {
     "views": []
    },
    "31a12bd2b294480ca648091fc1b28a94": {
     "views": []
    },
    "337225ce9739457f855637455e6e603d": {
     "views": []
    },
    "45a6e8f7cc9a41d29ed341bd44d0e5e2": {
     "views": []
    },
    "4dda4ce316de49938149880216ce65b5": {
     "views": []
    },
    "5112ea39cc7e49ceac245dac6e4e4407": {
     "views": []
    },
    "536f11d12f734451a2329808c6fa0c12": {
     "views": []
    },
    "55932769e3094a30b49969a703827508": {
     "views": []
    },
    "564d4b48e5124c73870984a9ef2372b1": {
     "views": []
    },
    "598876150db64dc6aef6204537fa69b2": {
     "views": []
    },
    "5c7db6a6acf24cdb8cb76f0737711f45": {
     "views": []
    },
    "606142e722df4ed2bc03048c9a83dfbc": {
     "views": []
    },
    "68b6e22cd3e64642b8f38e01c9cc7ef6": {
     "views": [
      {
       "cell": {
        "cell_type": "code",
        "execution_count": 17,
        "metadata": {
         "collapsed": false,
         "trusted": true
        },
        "outputs": [
         {
          "data": {
           "image/png": "iVBORw0KGgoAAAANSUhEUgAAAncAAAF/CAYAAAArce+SAAAABHNCSVQICAgIfAhkiAAAAAlwSFlz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\nAAAYhLgDAAAwCHEHAABgEOIOAADAIP8PpJ/2OD+28HUAAAAASUVORK5CYII=\n",
           "text/plain": "<matplotlib.figure.Figure at 0x10d9eddd8>"
          },
          "metadata": {},
          "output_type": "display_data"
         }
        ],
        "source": "@interact(title=\"Revenue\", power=(0,10), graph=True, color=('red', 'green', 'blue'))\ndef g(title, power,graph,color):\n    if graph:\n        plt.figure(figsize=(10,6))\n        xdata = np.linspace(0,10,100)\n        ydata = np.power(xdata, power)\n        plt.plot(xdata,ydata, c=color, linewidth=3)\n        plt.title(title)\n        plt.ylim(0,1e6)\n    else:\n        clear_output()\n"
       },
       "cell_index": 9,
       "root": true
      }
     ]
    },
    "6ad99c541b694817ba8e7f5fbf45ce58": {
     "views": []
    },
    "72c6c45f72524ca4a0efe353e08dfe41": {
     "views": []
    },
    "7e95d0da45bf4c9ba6c457a5f4443754": {
     "views": []
    },
    "7ee44d383c594e599f60b694997b5d67": {
     "views": []
    },
    "805cb8459bcf490aaa80d240ea57ca30": {
     "views": []
    },
    "823a26e28e3c4bf3bc3582533834ef7b": {
     "views": []
    },
    "8466698b5d7d4426bf84562cff0ae19c": {
     "views": []
    },
    "850ac90da31b4db5af2e8591229e649a": {
     "views": []
    },
    "8d61fb63d85044df938048fcc40501cf": {
     "views": [
      {
       "cell": {
        "cell_type": "code",
        "execution_count": 15,
        "metadata": {
         "collapsed": false,
         "trusted": true
        },
        "outputs": [
         {
          "name": "stdout",
          "output_type": "stream",
          "text": "2500\n"
         }
        ],
        "source": "interact(f, x=(0,100));"
       },
       "cell_index": 7,
       "root": true
      }
     ]
    },
    "8e7cc4f882424bc68938b9ea59cfd0c9": {
     "views": []
    },
    "9254c48f5c2e4a3b8db6223113f6631d": {
     "views": []
    },
    "9f4511e9564747378e90392972905b3e": {
     "views": []
    },
    "9fb2e760831240278da717acd82d7fa2": {
     "views": []
    },
    "a2b922149a804acdabe89a8f06292e3d": {
     "views": []
    },
    "a31ab88dd31847218f0ecaa2496a124a": {
     "views": []
    },
    "a588e8bc973c456b93156d48bbaa57af": {
     "views": []
    },
    "a72827c0799b481b814fd971b034f2cc": {
     "views": [
      {
       "cell": {
        "cell_type": "code",
        "execution_count": 16,
        "metadata": {
         "collapsed": false,
         "trusted": true
        },
        "outputs": [
         {
          "name": "stdout",
          "output_type": "stream",
          "text": "100\n"
         }
        ],
        "source": "interact(f, x=IntSlider(min=0, max=500, value=10, step=2));"
       },
       "cell_index": 8,
       "root": true
      }
     ]
    },
    "a7a645c55690404cbb512a1a554f86cf": {
     "views": []
    },
    "b5acdf9dcddd49c2b2fe2f0edd63044a": {
     "views": []
    },
    "b5f1fc3c83a342efb0d07a0a4543a979": {
     "views": []
    },
    "b6e934d9a32a4d6384c64ea5a93b652c": {
     "views": []
    },
    "b887ce69c9b74dbd929eaedbc85f034e": {
     "views": [
      {
       "cell": {
        "cell_type": "code",
        "execution_count": null,
        "metadata": {
         "collapsed": false,
         "trusted": true
        },
        "outputs": [],
        "source": "maxn = IntSlider(value=10, description=\"max n\")\nn = IntSlider(value=10, description=\"n\")\nlink((maxn, 'value'), (n, 'max'))\n\ndef print_value(change):\n    clear_output()\n    value = change['new']\n    print(value*value)\nn.observe(print_value, names='value')\n\ndisplay(maxn,n)\nprint(n.value*n.value)"
       },
       "cell_index": 11,
       "root": true
      }
     ]
    },
    "c6572247e11840ac8d12714df988faf0": {
     "views": []
    },
    "cdbd70459b9f42f093803d47e5fcbd6d": {
     "views": []
    },
    "d21f93ca432649c79ab3adefa5efd1ab": {
     "views": []
    },
    "dd7e53eb6d4240a8a40a62c7739d0bb2": {
     "views": []
    },
    "e78bbd983ab24b38ad68ec09542f8d4e": {
     "views": []
    }
   },
   "version": "1.1.0"
  }
 },
 "nbformat": 4,
 "nbformat_minor": 0
}
