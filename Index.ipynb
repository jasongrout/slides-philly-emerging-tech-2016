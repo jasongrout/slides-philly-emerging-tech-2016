{
 "cells": [
  {
   "cell_type": "markdown",
   "metadata": {},
   "source": [
    "[Cross Language](/notebooks/crosslanguage/Cross%20Language%20Integration.ipynb)\n",
    "\n",
    "[Interactive Widgets](/notebooks/interactive-widgets.ipynb)\n",
    "\n",
    "[BQPlot](/notebooks/bqplot2.ipynb)\n",
    "\n",
    "[Advanced Widgets](/notebooks/fly-binder/index.ipynb)"
   ]
  }
 ],
 "metadata": {
  "kernelspec": {
   "display_name": "Python 3",
   "language": "python",
   "name": "python3"
  },
  "language_info": {
   "codemirror_mode": {
    "name": "ipython",
    "version": 3
   },
   "file_extension": ".py",
   "mimetype": "text/x-python",
   "name": "python",
   "nbconvert_exporter": "python",
   "pygments_lexer": "ipython3",
   "version": "3.5.1"
  },
  "widgets": {
   "state": {},
   "version": "1.1.0"
  }
 },
 "nbformat": 4,
 "nbformat_minor": 0
}
