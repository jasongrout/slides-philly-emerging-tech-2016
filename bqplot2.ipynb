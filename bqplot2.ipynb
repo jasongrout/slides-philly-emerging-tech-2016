{
 "cells": [
  {
   "cell_type": "markdown",
   "metadata": {},
   "source": [
    "# BQPlot\n",
    "\n",
    "* Interactive plotting library developed by Bloomberg Quants, especially **Srinivas Sunkara, Chakri Cherukuri, Sylvain Corlay, Dhruv Madeka, and Romain Menegaux**\n",
    "* Based on IPython widgets\n",
    "* Open source\n",
    "\n",
    "# https://github.com/bloomberg/bqplot"
   ]
  },
  {
   "cell_type": "markdown",
   "metadata": {},
   "source": [
    "# BQPlot Example"
   ]
  },
  {
   "cell_type": "code",
   "execution_count": null,
   "metadata": {
    "collapsed": false
   },
   "outputs": [],
   "source": [
    "from bqplot import pyplot as plt\n",
    "from numpy import random, cumsum, linspace\n",
    "random.seed(0)\n",
    "size = 100\n",
    "y_data = cumsum(random.randn(size) * 100.0)\n",
    "y_data_2 = cumsum(random.randn(size))\n",
    "y_data_3 = cumsum(random.randn(size) * 100.)\n"
   ]
  },
  {
   "cell_type": "code",
   "execution_count": null,
   "metadata": {
    "collapsed": false
   },
   "outputs": [],
   "source": [
    "plt.figure(1)\n",
    "n = 100\n",
    "x = linspace(0.0, 10.0, n)\n",
    "plt.plot(x, y_data, axes_options={'y': {'grid_lines': 'dashed'}})\n",
    "plt.show()"
   ]
  },
  {
   "cell_type": "code",
   "execution_count": null,
   "metadata": {
    "collapsed": false
   },
   "outputs": [],
   "source": [
    "from IPython.display import clear_output\n",
    "def print_value(name, value):\n",
    "    clear_output()\n",
    "    print(value)\n",
    "plt.brush_int_selector(print_value)"
   ]
  },
  {
   "cell_type": "code",
   "execution_count": null,
   "metadata": {
    "collapsed": false
   },
   "outputs": [],
   "source": []
  },
  {
   "cell_type": "code",
   "execution_count": null,
   "metadata": {
    "collapsed": true
   },
   "outputs": [],
   "source": []
  },
  {
   "cell_type": "code",
   "execution_count": null,
   "metadata": {
    "collapsed": true
   },
   "outputs": [],
   "source": []
  },
  {
   "cell_type": "markdown",
   "metadata": {},
   "source": [
    "# Scatter Plot"
   ]
  },
  {
   "cell_type": "code",
   "execution_count": null,
   "metadata": {
    "collapsed": false
   },
   "outputs": [],
   "source": [
    "import pandas as pd\n",
    "import numpy as np\n",
    "from bqplot import *\n",
    "from bqplot.interacts import *\n",
    "from traitlets import link\n",
    "\n",
    "from IPython.display import display\n",
    "from ipywidgets import Label, ToggleButtons, VBox\n",
    "\n",
    "date_fmt = '%m-%d-%Y'\n",
    "symbol = 'Security 1'\n",
    "from datetime import datetime as py_dtime\n",
    "price_data = pd.DataFrame(np.cumsum(np.random.randn(150, 2).dot([[0.5, 0.4], [0.4, 1.0]]), axis=0) + 100,\n",
    "                          columns=['Security 1', 'Security 2'], index=pd.date_range(start='01-01-2007', periods=150))\n",
    "\n",
    "dates_actual = price_data.index.values\n",
    "prices = price_data[symbol].values\n",
    "symbol2 = 'Security 2'\n",
    "date_fmt = '%m-%d-%Y'\n",
    "\n",
    "sec2_data = price_data[symbol2].values\n",
    "dates = price_data.index.values\n",
    "\n",
    "from bqplot.market_map import MarketMap"
   ]
  },
  {
   "cell_type": "code",
   "execution_count": null,
   "metadata": {
    "collapsed": false
   },
   "outputs": [],
   "source": [
    "sc_x = LinearScale()\n",
    "sc_y = LinearScale()\n",
    "sc_e = LinearScale()\n",
    "sc_c = ColorScale(scheme='Reds')\n",
    "\n",
    "ax_x = Axis(scale=sc_x)\n",
    "ax_y = Axis(scale=sc_y, orientation='vertical')\n",
    "ax_c = ColorAxis(scale=sc_c, orientation='vertical', side='right')\n",
    "\n",
    "x1 = np.linspace(-1, 1, 20)\n",
    "y1 = np.linspace(-1, 1, 20)\n",
    "x, y = np.meshgrid(x1,y1)\n",
    "x, y = x.flatten(), y.flatten()\n",
    "rot = x**2 + y**2\n",
    "color=x-y\n",
    "scatter = Scatter(scales={'x': sc_x, 'y': sc_y, 'color': sc_c, 'rotation': sc_e}, \n",
    "                  x=x, y=y, rotation=rot, color=color,\n",
    "                  stroke=\"black\", animate_dur=1000, default_size=200, \n",
    "                  marker='arrow', default_skew=0.5,)\n",
    "Figure(marks=[scatter], axes=[ax_x, ax_y, ax_c])"
   ]
  },
  {
   "cell_type": "code",
   "execution_count": null,
   "metadata": {
    "collapsed": true
   },
   "outputs": [],
   "source": [
    "scatter.rotation = 1.0 / (x ** 2 + y ** 2 + 1)\n",
    "scatter.color = x+y"
   ]
  },
  {
   "cell_type": "markdown",
   "metadata": {},
   "source": [
    "# Scatter Interaction"
   ]
  },
  {
   "cell_type": "code",
   "execution_count": null,
   "metadata": {
    "collapsed": true
   },
   "outputs": [],
   "source": []
  },
  {
   "cell_type": "code",
   "execution_count": null,
   "metadata": {
    "collapsed": false,
    "scrolled": true
   },
   "outputs": [],
   "source": [
    "size = 100\n",
    "np.random.seed(0)\n",
    "x_data = range(size)\n",
    "y_data = np.cumsum(np.random.randn(size) * 100.0)\n",
    "\n",
    "## Enabling moving of points in scatter. Try to click and drag any of the points in the scatter and \n",
    "## notice the line representing the mean of the data update\n",
    "sc_x = LinearScale()\n",
    "sc_y = LinearScale()\n",
    "\n",
    "scat = Scatter(x=x_data[:10], y=y_data[:10], scales={'x': sc_x, 'y': sc_y}, default_colors=['orange'],\n",
    "               enable_move=True)\n",
    "lin = Lines(scales={'x': sc_x, 'y': sc_y}, line_style='dotted', colors=['orange'])\n",
    "m = Label(value='Mean is %s'%np.mean(scat.y))\n",
    "\n",
    "def update_line(change):\n",
    "    with lin.hold_sync():\n",
    "        lin.x = [np.min(scat.x), np.max(scat.x)]\n",
    "        lin.y = [np.mean(scat.y), np.mean(scat.y)]\n",
    "        m.value='Mean is %s'%np.mean(scat.y)\n",
    "        \n",
    "\n",
    "update_line(None)\n",
    "# update line on change of x or y of scatter\n",
    "scat.observe(update_line, names='x')\n",
    "scat.observe(update_line, names='y')\n",
    "\n",
    "ax_x = Axis(scale=sc_x)\n",
    "ax_y = Axis(scale=sc_y, tick_format='0.2f', orientation='vertical')\n",
    "\n",
    "fig = Figure(marks=[scat, lin], axes=[ax_x, ax_y])\n",
    "\n",
    "## In this case on drag, the line updates as you move the points.\n",
    "with scat.hold_sync():\n",
    "    scat.enable_move = True\n",
    "    scat.update_on_move = True\n",
    "    scat.enable_add = False\n",
    "\n",
    "    \n",
    "display(m, fig)"
   ]
  },
  {
   "cell_type": "code",
   "execution_count": null,
   "metadata": {
    "collapsed": true
   },
   "outputs": [],
   "source": []
  },
  {
   "cell_type": "markdown",
   "metadata": {},
   "source": [
    "# More Interactions"
   ]
  },
  {
   "cell_type": "code",
   "execution_count": null,
   "metadata": {
    "collapsed": false
   },
   "outputs": [],
   "source": [
    "dt_x = DateScale(date_format=date_fmt, min=py_dtime(2007, 1, 1))\n",
    "lc1_x = LinearScale()\n",
    "lc2_y = LinearScale()\n",
    "\n",
    "lc2 = Lines(x=np.linspace(0.0, 10.0, len(prices)), y=prices * 0.25,\n",
    "            scales={'x': lc1_x, 'y': lc2_y}, \n",
    "            display_legend=True,\n",
    "            labels=['Security 1'])\n",
    "\n",
    "lc3 = Lines(x=dates_actual, y=sec2_data,\n",
    "            scales={'x': dt_x, 'y': lc2_y},\n",
    "            colors=['red'], \n",
    "            display_legend=True, \n",
    "            labels=['Security 2'])\n",
    "\n",
    "lc4 = Lines(x=np.linspace(0.0, 10.0, len(prices)), y=sec2_data * 0.75,\n",
    "            scales={'x': LinearScale(min=5, max=10), 'y': lc2_y},\n",
    "            colors=['green'], display_legend=True, \n",
    "            labels=['Security 2 squared'])\n",
    "\n",
    "x_ax1 = Axis(label='Date', scale=dt_x)\n",
    "x_ax2 = Axis(label='Time', scale=lc1_x, side='top')\n",
    "x_ay2 = Axis(label=(symbol + ' Price'), scale=lc2_y, orientation='vertical', tick_format='0.2f', label_offset = '50px')\n",
    "\n",
    "\n",
    "fig = Figure(marks=[lc2, lc3, lc4], axes=[x_ax1, x_ax2, x_ay2])"
   ]
  },
  {
   "cell_type": "code",
   "execution_count": null,
   "metadata": {
    "collapsed": false
   },
   "outputs": [],
   "source": [
    "## declaring the interactions\n",
    "multi_sel = MultiSelector(scale=dt_x, marks=[lc2, lc3])\n",
    "br_intsel = BrushIntervalSelector(scale=lc1_x, marks=[lc2, lc3])\n",
    "index_sel = IndexSelector(scale=dt_x, marks=[lc2, lc3])\n",
    "int_sel = FastIntervalSelector(scale=dt_x, marks=[lc3, lc2])\n",
    "\n",
    "hd = HandDraw(lines=lc2)\n",
    "hd2 = HandDraw(lines=lc3)\n",
    "pz = PanZoom(scales={'x': [dt_x], 'y': [lc2_y]})\n",
    "\n",
    "deb = Label()\n",
    "deb.value = \"hello\""
   ]
  },
  {
   "cell_type": "code",
   "execution_count": null,
   "metadata": {
    "collapsed": false
   },
   "outputs": [],
   "source": [
    "## Call back handler for the interactions\n",
    "def test_callback(change):\n",
    "    value = change['new']\n",
    "    deb.value = str(value)\n",
    "    \n",
    "multi_sel.observe(test_callback, names='selected')\n",
    "br_intsel.observe(test_callback, names='selected')\n",
    "index_sel.observe(test_callback, names='selected')\n",
    "int_sel.observe(test_callback, names='selected')"
   ]
  },
  {
   "cell_type": "code",
   "execution_count": null,
   "metadata": {
    "collapsed": false
   },
   "outputs": [],
   "source": [
    "from collections import OrderedDict\n",
    "selection_interacts = ToggleButtons(options=OrderedDict([('HandDraw1', hd), ('HandDraw2', hd2), ('PanZoom', pz), \n",
    "                                                       ('FastIntervalSelector', int_sel), ('IndexSelector', index_sel),\n",
    "                                                       ('BrushIntervalSelector', br_intsel),\n",
    "                                                       ('None', None)]))\n",
    "display(deb)\n",
    "display(VBox([fig, selection_interacts], align_self=\"stretch\"))\n",
    "\n",
    "link((selection_interacts, 'value'), (fig, 'interaction'));"
   ]
  },
  {
   "cell_type": "markdown",
   "metadata": {},
   "source": [
    "# Country GDP"
   ]
  },
  {
   "cell_type": "code",
   "execution_count": null,
   "metadata": {
    "collapsed": true
   },
   "outputs": [],
   "source": [
    "data = pd.read_csv('data_files/country_codes.csv', index_col=[0])\n",
    "country_codes = data.index.values\n",
    "country_names = data['Name']"
   ]
  },
  {
   "cell_type": "code",
   "execution_count": null,
   "metadata": {
    "collapsed": true
   },
   "outputs": [],
   "source": [
    "gdp_data = pd.read_csv('data_files/gdp_per_capita.csv', index_col=[0], parse_dates=True)\n",
    "gdp_data.fillna(method='backfill', inplace=True)\n",
    "gdp_data.fillna(method='ffill', inplace=True)"
   ]
  },
  {
   "cell_type": "code",
   "execution_count": null,
   "metadata": {
    "collapsed": false
   },
   "outputs": [],
   "source": [
    "col = ColorScale(scheme='Greens')\n",
    "continents = data['Continent'].values\n",
    "ax_c = ColorAxis(scale=col, label='GDP per Capita', visible=False)\n",
    "\n",
    "data['GDP'] = gdp_data.ix[-1]\n",
    "\n",
    "market_map = MarketMap(names=country_codes, groups=continents,       # Basic data which needs to set for each map\n",
    "                       cols=25, row_groups=3,                        # Properties for the visualization\n",
    "                       ref_data=data,                                # Data frame used for different properties of the map\n",
    "                       tooltip_fields=['Name', 'Continent', 'GDP'],  # Columns from data frame to be displayed as tooltip\n",
    "                       tooltip_formats=['', '', '.1f'],\n",
    "                       scales={'color': col}, axes=[ax_c])           # Axis and scale for color data"
   ]
  },
  {
   "cell_type": "code",
   "execution_count": null,
   "metadata": {
    "collapsed": false
   },
   "outputs": [],
   "source": [
    "deb_output = Label()\n",
    "def selected_index_changed(change):\n",
    "    value = change['new']\n",
    "    deb_output.value = str(value)\n",
    "        \n",
    "market_map.observe(selected_index_changed, names='selected')\n",
    "display(deb_output)\n",
    "display(market_map)"
   ]
  },
  {
   "cell_type": "code",
   "execution_count": null,
   "metadata": {
    "collapsed": true
   },
   "outputs": [],
   "source": [
    "# Attribute to show the names of the groups, in this case the continents\n",
    "market_map.show_groups = True"
   ]
  },
  {
   "cell_type": "code",
   "execution_count": null,
   "metadata": {
    "collapsed": true
   },
   "outputs": [],
   "source": [
    "market_map.show_groups=False\n",
    "market_map.selected = ['PAN', 'FRA', 'PHL']\n",
    "# changing selected stroke and hovered stroke variable\n",
    "market_map.selected_stroke = 'yellow'\n",
    "market_map.hovered_stroke = 'violet'"
   ]
  },
  {
   "cell_type": "code",
   "execution_count": null,
   "metadata": {
    "collapsed": true
   },
   "outputs": [],
   "source": [
    "# Adding data for color and making color axis visible\n",
    "market_map.color = data['GDP']\n",
    "ax_c.visible = True"
   ]
  },
  {
   "cell_type": "markdown",
   "metadata": {},
   "source": [
    "# Graphs"
   ]
  },
  {
   "cell_type": "code",
   "execution_count": null,
   "metadata": {
    "collapsed": true
   },
   "outputs": [],
   "source": [
    "# Creating the figure to be displayed as the tooltip\n",
    "sc_x = DateScale()\n",
    "sc_y = LinearScale()\n",
    "\n",
    "ax_x = Axis(scale=sc_x, grid_lines='dashed', label='Date')\n",
    "ax_y = Axis(scale=sc_y, orientation='vertical', grid_lines='dashed',\n",
    "            label='GDP', label_location='end', label_offset='-1em')\n",
    "\n",
    "line = Lines(x= gdp_data.index.values, scales={'x': sc_x, 'y': sc_y}, colors=['orange'])\n",
    "fig_tooltip = Figure(marks=[line], axes=[ax_x, ax_y], min_width=600, min_height=400)"
   ]
  },
  {
   "cell_type": "code",
   "execution_count": null,
   "metadata": {
    "collapsed": true
   },
   "outputs": [],
   "source": [
    "market_map = MarketMap(names=country_codes, groups=continents,\n",
    "                       cols=25, row_groups=3,\n",
    "                       color=data['GDP'], scales={'color': col}, axes=[ax_c],\n",
    "                       ref_data=data, tooltip_widget=fig_tooltip)\n",
    "\n",
    "# Update the tooltip chart\n",
    "hovered_symbol = ''\n",
    "def hover_handler(self, content):\n",
    "    global hovered_symbol\n",
    "    symbol = content.get('ref_data', {}).get('Country Code', '')\n",
    "    if(symbol != hovered_symbol):\n",
    "        hovered_symbol = symbol\n",
    "        if(gdp_data.get(hovered_symbol) is not None):\n",
    "            line.y = gdp_data[hovered_symbol].values\n",
    "            fig_tooltip.title = hovered_symbol\n",
    "               \n",
    "# Custom msg sent when a particular cell is hovered on\n",
    "market_map.on_hover(hover_handler)\n",
    "market_map.axes = []\n",
    "display(market_map)"
   ]
  },
  {
   "cell_type": "markdown",
   "metadata": {
    "collapsed": true
   },
   "source": [
    "# https://github.com/bloomberg/bqplot"
   ]
  },
  {
   "cell_type": "code",
   "execution_count": null,
   "metadata": {
    "collapsed": true
   },
   "outputs": [],
   "source": []
  }
 ],
 "metadata": {
  "kernelspec": {
   "display_name": "Python 3",
   "language": "python",
   "name": "python3"
  },
  "language_info": {
   "codemirror_mode": {
    "name": "ipython",
    "version": 3
   },
   "file_extension": ".py",
   "mimetype": "text/x-python",
   "name": "python",
   "nbconvert_exporter": "python",
   "pygments_lexer": "ipython3",
   "version": "3.5.1"
  },
  "widgets": {
   "state": {},
   "version": "1.1.0"
  }
 },
 "nbformat": 4,
 "nbformat_minor": 0
}
